{
 "cells": [
  {
   "cell_type": "code",
   "execution_count": 2,
   "id": "fa965eeb-6205-4c46-b31b-b90a9fcbc59e",
   "metadata": {},
   "outputs": [],
   "source": [
    "from data.data import load_df,dataset_to_frame,get_dataset\n",
    "import pandas as pd"
   ]
  },
  {
   "cell_type": "code",
   "execution_count": 3,
   "id": "ee939a5e-8e7d-4648-bd36-ca30d3b46026",
   "metadata": {},
   "outputs": [
    {
     "name": "stdout",
     "output_type": "stream",
     "text": [
      "Warning: Looks like you're using an outdated `kagglehub` version, please consider updating (latest version: 0.3.10)\n"
     ]
    },
    {
     "data": {
      "text/plain": [
       "Product_Name                       object\n",
       "Catagory                           object\n",
       "Supplier_Name                      object\n",
       "Warehouse_Location                 object\n",
       "Status                             object\n",
       "Product_ID                         object\n",
       "Supplier_ID                        object\n",
       "Date_Received              datetime64[ns]\n",
       "Last_Order_Date            datetime64[ns]\n",
       "Expiration_Date            datetime64[ns]\n",
       "Stock_Quantity                      int64\n",
       "Reorder_Level                       int64\n",
       "Reorder_Quantity                    int64\n",
       "Unit_Price                        float64\n",
       "Sales_Volume                        int64\n",
       "Inventory_Turnover_Rate             int64\n",
       "percentage                        float64\n",
       "dtype: object"
      ]
     },
     "execution_count": 3,
     "metadata": {},
     "output_type": "execute_result"
    }
   ],
   "source": [
    "df = load_df()#dataset_to_frame(get_dataset())\n",
    "df.dtypes"
   ]
  },
  {
   "cell_type": "code",
   "execution_count": 4,
   "id": "37f8a33a-4a09-4947-a123-5cfc9557a079",
   "metadata": {},
   "outputs": [
    {
     "data": {
      "text/html": [
       "<div>\n",
       "<style scoped>\n",
       "    .dataframe tbody tr th:only-of-type {\n",
       "        vertical-align: middle;\n",
       "    }\n",
       "\n",
       "    .dataframe tbody tr th {\n",
       "        vertical-align: top;\n",
       "    }\n",
       "\n",
       "    .dataframe thead th {\n",
       "        text-align: right;\n",
       "    }\n",
       "</style>\n",
       "<table border=\"1\" class=\"dataframe\">\n",
       "  <thead>\n",
       "    <tr style=\"text-align: right;\">\n",
       "      <th></th>\n",
       "      <th>Product_Name</th>\n",
       "      <th>Catagory</th>\n",
       "      <th>Supplier_Name</th>\n",
       "      <th>Warehouse_Location</th>\n",
       "      <th>Status</th>\n",
       "      <th>Product_ID</th>\n",
       "      <th>Supplier_ID</th>\n",
       "      <th>Date_Received</th>\n",
       "      <th>Last_Order_Date</th>\n",
       "      <th>Expiration_Date</th>\n",
       "      <th>Stock_Quantity</th>\n",
       "      <th>Reorder_Level</th>\n",
       "      <th>Reorder_Quantity</th>\n",
       "      <th>Unit_Price</th>\n",
       "      <th>Sales_Volume</th>\n",
       "      <th>Inventory_Turnover_Rate</th>\n",
       "      <th>percentage</th>\n",
       "    </tr>\n",
       "  </thead>\n",
       "  <tbody>\n",
       "    <tr>\n",
       "      <th>0</th>\n",
       "      <td>Bell Pepper</td>\n",
       "      <td>Fruits &amp; Vegetables</td>\n",
       "      <td>Eimbee</td>\n",
       "      <td>20 Pennsylvania Parkway</td>\n",
       "      <td>Discontinued</td>\n",
       "      <td>29-017-6255</td>\n",
       "      <td>43-348-2450</td>\n",
       "      <td>2024-03-01</td>\n",
       "      <td>2025-01-06</td>\n",
       "      <td>2025-01-31</td>\n",
       "      <td>46</td>\n",
       "      <td>64</td>\n",
       "      <td>17</td>\n",
       "      <td>4.6</td>\n",
       "      <td>96</td>\n",
       "      <td>55</td>\n",
       "      <td>0.0196</td>\n",
       "    </tr>\n",
       "    <tr>\n",
       "      <th>1</th>\n",
       "      <td>Vegetable Oil</td>\n",
       "      <td>Oils &amp; Fats</td>\n",
       "      <td>Digitube</td>\n",
       "      <td>03643 Oakridge Lane</td>\n",
       "      <td>Backordered</td>\n",
       "      <td>79-569-8856</td>\n",
       "      <td>04-854-7165</td>\n",
       "      <td>2024-04-01</td>\n",
       "      <td>2024-05-19</td>\n",
       "      <td>2024-06-11</td>\n",
       "      <td>51</td>\n",
       "      <td>87</td>\n",
       "      <td>86</td>\n",
       "      <td>2.0</td>\n",
       "      <td>24</td>\n",
       "      <td>83</td>\n",
       "      <td>0.0091</td>\n",
       "    </tr>\n",
       "    <tr>\n",
       "      <th>2</th>\n",
       "      <td>Parmesan Cheese</td>\n",
       "      <td>Dairy</td>\n",
       "      <td>BlogXS</td>\n",
       "      <td>73 Graedel Street</td>\n",
       "      <td>Discontinued</td>\n",
       "      <td>28-146-2641</td>\n",
       "      <td>82-995-0739</td>\n",
       "      <td>2024-04-01</td>\n",
       "      <td>2024-12-21</td>\n",
       "      <td>2024-04-08</td>\n",
       "      <td>38</td>\n",
       "      <td>67</td>\n",
       "      <td>66</td>\n",
       "      <td>12.0</td>\n",
       "      <td>35</td>\n",
       "      <td>24</td>\n",
       "      <td>0.0136</td>\n",
       "    </tr>\n",
       "    <tr>\n",
       "      <th>3</th>\n",
       "      <td>Carrot</td>\n",
       "      <td>Fruits &amp; Vegetables</td>\n",
       "      <td>Avaveo</td>\n",
       "      <td>44801 Myrtle Center</td>\n",
       "      <td>Discontinued</td>\n",
       "      <td>11-581-9869</td>\n",
       "      <td>22-867-3079</td>\n",
       "      <td>2024-05-01</td>\n",
       "      <td>2024-12-12</td>\n",
       "      <td>2024-09-26</td>\n",
       "      <td>51</td>\n",
       "      <td>60</td>\n",
       "      <td>98</td>\n",
       "      <td>1.5</td>\n",
       "      <td>44</td>\n",
       "      <td>95</td>\n",
       "      <td>0.0136</td>\n",
       "    </tr>\n",
       "    <tr>\n",
       "      <th>4</th>\n",
       "      <td>Garlic</td>\n",
       "      <td>Fruits &amp; Vegetables</td>\n",
       "      <td>Katz</td>\n",
       "      <td>6195 Monterey Center</td>\n",
       "      <td>Discontinued</td>\n",
       "      <td>13-202-4809</td>\n",
       "      <td>24-281-7685</td>\n",
       "      <td>2024-05-01</td>\n",
       "      <td>2024-07-28</td>\n",
       "      <td>2024-05-20</td>\n",
       "      <td>27</td>\n",
       "      <td>22</td>\n",
       "      <td>89</td>\n",
       "      <td>7.0</td>\n",
       "      <td>91</td>\n",
       "      <td>77</td>\n",
       "      <td>0.0217</td>\n",
       "    </tr>\n",
       "  </tbody>\n",
       "</table>\n",
       "</div>"
      ],
      "text/plain": [
       "      Product_Name             Catagory Supplier_Name  \\\n",
       "0      Bell Pepper  Fruits & Vegetables        Eimbee   \n",
       "1    Vegetable Oil          Oils & Fats      Digitube   \n",
       "2  Parmesan Cheese                Dairy        BlogXS   \n",
       "3           Carrot  Fruits & Vegetables        Avaveo   \n",
       "4           Garlic  Fruits & Vegetables          Katz   \n",
       "\n",
       "        Warehouse_Location        Status   Product_ID  Supplier_ID  \\\n",
       "0  20 Pennsylvania Parkway  Discontinued  29-017-6255  43-348-2450   \n",
       "1      03643 Oakridge Lane   Backordered  79-569-8856  04-854-7165   \n",
       "2        73 Graedel Street  Discontinued  28-146-2641  82-995-0739   \n",
       "3      44801 Myrtle Center  Discontinued  11-581-9869  22-867-3079   \n",
       "4     6195 Monterey Center  Discontinued  13-202-4809  24-281-7685   \n",
       "\n",
       "  Date_Received Last_Order_Date Expiration_Date  Stock_Quantity  \\\n",
       "0    2024-03-01      2025-01-06      2025-01-31              46   \n",
       "1    2024-04-01      2024-05-19      2024-06-11              51   \n",
       "2    2024-04-01      2024-12-21      2024-04-08              38   \n",
       "3    2024-05-01      2024-12-12      2024-09-26              51   \n",
       "4    2024-05-01      2024-07-28      2024-05-20              27   \n",
       "\n",
       "   Reorder_Level  Reorder_Quantity  Unit_Price  Sales_Volume  \\\n",
       "0             64                17         4.6            96   \n",
       "1             87                86         2.0            24   \n",
       "2             67                66        12.0            35   \n",
       "3             60                98         1.5            44   \n",
       "4             22                89         7.0            91   \n",
       "\n",
       "   Inventory_Turnover_Rate  percentage  \n",
       "0                       55      0.0196  \n",
       "1                       83      0.0091  \n",
       "2                       24      0.0136  \n",
       "3                       95      0.0136  \n",
       "4                       77      0.0217  "
      ]
     },
     "execution_count": 4,
     "metadata": {},
     "output_type": "execute_result"
    }
   ],
   "source": [
    "df.head()"
   ]
  },
  {
   "cell_type": "code",
   "execution_count": 17,
   "id": "ca232d4b-1b70-47f9-a998-fc1b872bdd94",
   "metadata": {},
   "outputs": [
    {
     "data": {
      "text/plain": [
       "{'Product_Name': 'object',\n",
       " 'Catagory': 'object',\n",
       " 'Supplier_Name': 'object',\n",
       " 'Warehouse_Location': 'object',\n",
       " 'Status': 'object',\n",
       " 'Product_ID': 'object',\n",
       " 'Supplier_ID': 'object',\n",
       " 'Date_Received': 'datetime64[ns]',\n",
       " 'Last_Order_Date': 'datetime64[ns]',\n",
       " 'Expiration_Date': 'datetime64[ns]',\n",
       " 'Stock_Quantity': 'int64',\n",
       " 'Reorder_Level': 'int64',\n",
       " 'Reorder_Quantity': 'int64',\n",
       " 'Unit_Price': 'float64',\n",
       " 'Sales_Volume': 'int64',\n",
       " 'Inventory_Turnover_Rate': 'int64',\n",
       " 'percentage': 'float64'}"
      ]
     },
     "execution_count": 17,
     "metadata": {},
     "output_type": "execute_result"
    }
   ],
   "source": [
    "df.dtypes.astype(str).to_dict()"
   ]
  },
  {
   "cell_type": "code",
   "execution_count": 18,
   "id": "df5e844e-b017-4cbe-b037-cc5cc2c3eeae",
   "metadata": {},
   "outputs": [
    {
     "data": {
      "text/plain": [
       "array(['Discontinued', 'Backordered', 'Active'], dtype=object)"
      ]
     },
     "execution_count": 18,
     "metadata": {},
     "output_type": "execute_result"
    }
   ],
   "source": [
    "df.Status.unique()"
   ]
  },
  {
   "cell_type": "code",
   "execution_count": null,
   "id": "1190961d-2cde-49bc-9ba1-d3a1fa6838b8",
   "metadata": {},
   "outputs": [],
   "source": []
  }
 ],
 "metadata": {
  "kernelspec": {
   "display_name": "Python 3 (ipykernel)",
   "language": "python",
   "name": "python3"
  },
  "language_info": {
   "codemirror_mode": {
    "name": "ipython",
    "version": 3
   },
   "file_extension": ".py",
   "mimetype": "text/x-python",
   "name": "python",
   "nbconvert_exporter": "python",
   "pygments_lexer": "ipython3",
   "version": "3.12.9"
  }
 },
 "nbformat": 4,
 "nbformat_minor": 5
}
